{
  "nbformat": 4,
  "nbformat_minor": 0,
  "metadata": {
    "colab": {
      "name": "First Lab",
      "provenance": [],
      "authorship_tag": "ABX9TyP0tL8cF/aQlilyqjBmeZgR",
      "include_colab_link": true
    },
    "kernelspec": {
      "name": "python3",
      "display_name": "Python 3"
    }
  },
  "cells": [
    {
      "cell_type": "markdown",
      "metadata": {
        "id": "view-in-github",
        "colab_type": "text"
      },
      "source": [
        "<a href=\"https://colab.research.google.com/github/rcd5268/IST210/blob/master/First_Lab.ipynb\" target=\"_parent\"><img src=\"https://colab.research.google.com/assets/colab-badge.svg\" alt=\"Open In Colab\"/></a>"
      ]
    },
    {
      "cell_type": "markdown",
      "metadata": {
        "id": "SZMhgb1XHLF4",
        "colab_type": "text"
      },
      "source": [
        "###Name"
      ]
    },
    {
      "cell_type": "markdown",
      "metadata": {
        "id": "73SJkvIhHbsl",
        "colab_type": "text"
      },
      "source": [
        "Robert DePasquale "
      ]
    },
    {
      "cell_type": "markdown",
      "metadata": {
        "id": "67C_5DinIHcW",
        "colab_type": "text"
      },
      "source": [
        "###IST Interest "
      ]
    },
    {
      "cell_type": "markdown",
      "metadata": {
        "id": "XMxQXz8iHmIJ",
        "colab_type": "text"
      },
      "source": [
        "I am intersted in the Business side of IST which is Integration and Applications. I am also going to minor in Supply Chain. "
      ]
    },
    {
      "cell_type": "markdown",
      "metadata": {
        "id": "7Nv4PAaDINvI",
        "colab_type": "text"
      },
      "source": [
        "###Your future job/career "
      ]
    },
    {
      "cell_type": "markdown",
      "metadata": {
        "id": "xehjbSV1IQSG",
        "colab_type": "text"
      },
      "source": [
        "I would like to work with a fortune500 company either working in their IT department or their Supply Chain department. An ideal company for me would be this company called \"Armada\". They are a Supply Chain and Logistics company in Pittsburgh. My brother works there and I interviewed with them and loved the culture they had. "
      ]
    }
  ]
}