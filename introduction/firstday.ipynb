{
  "nbformat": 4,
  "nbformat_minor": 0,
  "metadata": {
    "colab": {
      "name": "IST 210 1st day ",
      "provenance": [],
      "toc_visible": true,
      "authorship_tag": "ABX9TyOvTDKDdu3TKxapLKUcVbZi",
      "include_colab_link": true
    },
    "kernelspec": {
      "name": "python3",
      "display_name": "Python 3"
    }
  },
  "cells": [
    {
      "cell_type": "markdown",
      "metadata": {
        "id": "view-in-github",
        "colab_type": "text"
      },
      "source": [
        "<a href=\"https://colab.research.google.com/github/rcd5268/IST210/blob/master/introduction/firstday.ipynb\" target=\"_parent\"><img src=\"https://colab.research.google.com/assets/colab-badge.svg\" alt=\"Open In Colab\"/></a>"
      ]
    },
    {
      "cell_type": "code",
      "metadata": {
        "id": "ru5wof10zZVP",
        "colab_type": "code",
        "outputId": "eb8a39b7-99d6-4c28-9c2c-e54591523bdc",
        "colab": {
          "base_uri": "https://localhost:8080/",
          "height": 34
        }
      },
      "source": [
        "2+2"
      ],
      "execution_count": 0,
      "outputs": [
        {
          "output_type": "execute_result",
          "data": {
            "text/plain": [
              "4"
            ]
          },
          "metadata": {
            "tags": []
          },
          "execution_count": 5
        }
      ]
    },
    {
      "cell_type": "markdown",
      "metadata": {
        "id": "zvoGSxy8z9BX",
        "colab_type": "text"
      },
      "source": [
        "This is my first notebook \n"
      ]
    },
    {
      "cell_type": "code",
      "metadata": {
        "id": "1xg4IVjczu7E",
        "colab_type": "code",
        "outputId": "9d42144e-a121-42ec-9aab-0c7dd5006f2b",
        "colab": {
          "base_uri": "https://localhost:8080/",
          "height": 34
        }
      },
      "source": [
        "2+3"
      ],
      "execution_count": 0,
      "outputs": [
        {
          "output_type": "execute_result",
          "data": {
            "text/plain": [
              "5"
            ]
          },
          "metadata": {
            "tags": []
          },
          "execution_count": 6
        }
      ]
    },
    {
      "cell_type": "markdown",
      "metadata": {
        "id": "ttQasviN0QLz",
        "colab_type": "text"
      },
      "source": [
        "this is **bold** "
      ]
    },
    {
      "cell_type": "markdown",
      "metadata": {
        "id": "2xVbtGF10xak",
        "colab_type": "text"
      },
      "source": [
        "##this is a header##\n"
      ]
    },
    {
      "cell_type": "markdown",
      "metadata": {
        "id": "ula_UuIf4pw5",
        "colab_type": "text"
      },
      "source": [
        ""
      ]
    }
  ]
}