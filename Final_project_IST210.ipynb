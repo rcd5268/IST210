{
  "nbformat": 4,
  "nbformat_minor": 0,
  "metadata": {
    "colab": {
      "name": "Final project IST210",
      "provenance": [],
      "collapsed_sections": [],
      "include_colab_link": true
    },
    "kernelspec": {
      "name": "python3",
      "display_name": "Python 3"
    }
  },
  "cells": [
    {
      "cell_type": "markdown",
      "metadata": {
        "id": "view-in-github",
        "colab_type": "text"
      },
      "source": [
        "<a href=\"https://colab.research.google.com/github/rcd5268/IST210/blob/master/Final_project_IST210.ipynb\" target=\"_parent\"><img src=\"https://colab.research.google.com/assets/colab-badge.svg\" alt=\"Open In Colab\"/></a>"
      ]
    },
    {
      "cell_type": "markdown",
      "metadata": {
        "id": "1LDTbTYhJ-Oh",
        "colab_type": "text"
      },
      "source": [
        "  Our group project is creating an ER diagram linked to Dave and Busters that has five tables. We picked this project because we like Dave and Busters a lot and it was the best idea we came up with when we thought of ideas in the first project. We thought Dave and Busters could be something we could use successfully. We started the project by brainstorming what different tables we could use to make this work. We came up with five tables that we could use to represent Dave and Busters and included these in our 2nd group submission. When we revisited the ER diagram for this final submission, we kept the same tables and just made some minor changes that were suggested to us on our last submission comments. This led us to our final ER diagram and being done with that stage of the project."
      ]
    },
    {
      "cell_type": "markdown",
      "metadata": {
        "id": "7BWEfKUNKagN",
        "colab_type": "text"
      },
      "source": [
        "![alt text](https://raw.githubusercontent.com/rcd5268/IST210/master/DnB%20Diagram.png)\n"
      ]
    },
    {
      "cell_type": "markdown",
      "metadata": {
        "id": "_A3MgFKWLBsT",
        "colab_type": "text"
      },
      "source": [
        "The specifics to our project are the staff members, each staff member serves a certain amount of customers. And for them to do this the restaurant needs to pay them, which then takes away from Dave n Busters profit. The DNB card has all of the customers' information on it. It shows his transactions, whether it be food, games or prizes. It also shows what staff member served him and how much they tipped them. It's different from the game card because the game card only has the amount of token you have left to play games and the amount of tickets you have for prizes. The game card ID is linked to the DNB card so if you lose it you can get another one. The game card shows what games you played, how much you spent on that game and the amount of tikets you won from that game."
      ]
    },
    {
      "cell_type": "markdown",
      "metadata": {
        "id": "hf16YQGWLGHS",
        "colab_type": "text"
      },
      "source": [
        "For our ER diagram we decided to include five tables; games, customer purchases, prizes, customers and staff. Each of these tables is a major component to how Dave n Busters makes their profit. Starting with the customers. If they didn't have customers they wouldn't have a business. The rest of the tables all rely on the customers too. The tables prizes, staff and customer purchases all focus around the customer. The staff members serve the customers and then are paid. The staff's salary takes away from Dave n Busters profit. The customer purchases show how much each person is spending. The prizes are what the customers choose from playing games and earning tokens. Prizes cost money to buy but a profit is made from the amount of money a person spends to play games. The more expensive the prize, the more tokens, which means more money spent on games."
      ]
    },
    {
      "cell_type": "markdown",
      "metadata": {
        "id": "KYNH_qXVLKkH",
        "colab_type": "text"
      },
      "source": [
        "A scenario for an average user wanting to use our diagram would be the CEO of Dave n Busters. Something he would use our ER diagram for would be to see what part of Dave n Busters is making enough money and not enough money. For example, he could look at the prizes and see they are spending 150 dollars on the prizes but are only making 155 dollars from the prizes. This isn't that great of a profit, so they could see this and change their prices for Prizes. They could do this for any of our tables. They could also see what type of customers they are getting and if they're making more money from kids or adults. This could help them improve who they are marketing to. If they market to kids they can do more deals for birthday parties and make games more expensive. But if they market to adults they could improve food, make it more expenisve and set up deals for drinks. Doing all of this will help improve Dave n Busters profits, and this would be crucial information for the CEO. "
      ]
    },
    {
      "cell_type": "code",
      "metadata": {
        "id": "DmzpXuptDKyj",
        "colab_type": "code",
        "outputId": "e42cfb17-2eab-4735-e594-7eb8970f4936",
        "colab": {
          "base_uri": "https://localhost:8080/",
          "height": 34
        }
      },
      "source": [
        "%load_ext sql\n",
        "%sql sqlite:///dbDatabase.db"
      ],
      "execution_count": 0,
      "outputs": [
        {
          "output_type": "execute_result",
          "data": {
            "text/plain": [
              "'Connected: @dbDatabase.db'"
            ]
          },
          "metadata": {
            "tags": []
          },
          "execution_count": 1
        }
      ]
    },
    {
      "cell_type": "code",
      "metadata": {
        "id": "uoilmlTiDfp6",
        "colab_type": "code",
        "outputId": "c76d72ad-f9ef-4314-ae57-f0893d381c73",
        "colab": {
          "base_uri": "https://localhost:8080/",
          "height": 230
        }
      },
      "source": [
        "%%sql\n",
        "DROP TABLE IF EXISTS Customers;\n",
        "create table Customers (DnB Card text PRIMARY KEY, Age text, Gender text, GameCard text);\n",
        "\n",
        "DROP TABLE IF EXISTS Staff;\n",
        "create table Staff (Staff ID text PRIMARY KEY, Job text, Firstname text, DnB Card text, LastName text);\n",
        "\n",
        "DROP TABLE IF EXISTS Prizes;\n",
        "create table Prizes (GameCard text PRIMARY KEY, Type text, Tickets text, Amount real);\n",
        "\n",
        "DROP TABLE IF EXISTS Games;\n",
        "create table Games (Game ID text PRIMARY KEY, GameCard text, Category text, Tokens text);\n",
        "\n",
        "DROP TABLE IF EXISTS CustomerPurchases;\n",
        "create table CustomerPurchases (Receipt Code text PRIMARY KEY, DateTime text, Price real, DnB Card text);\n"
      ],
      "execution_count": 0,
      "outputs": [
        {
          "output_type": "stream",
          "text": [
            " * sqlite:///dbDatabase.db\n",
            "Done.\n",
            "Done.\n",
            "Done.\n",
            "Done.\n",
            "Done.\n",
            "Done.\n",
            "Done.\n",
            "Done.\n",
            "Done.\n",
            "Done.\n"
          ],
          "name": "stdout"
        },
        {
          "output_type": "execute_result",
          "data": {
            "text/plain": [
              "[]"
            ]
          },
          "metadata": {
            "tags": []
          },
          "execution_count": 12
        }
      ]
    },
    {
      "cell_type": "code",
      "metadata": {
        "id": "AbNgAYs1EX4K",
        "colab_type": "code",
        "outputId": "08041931-5fd2-4b89-f05c-a74fba76d1a7",
        "colab": {
          "base_uri": "https://localhost:8080/",
          "height": 585
        }
      },
      "source": [
        "\n",
        "%%sql\n",
        "insert into Customers values ('556789091', '21', 'male','dsa6789');\n",
        "insert into Customers values ('564830921', '19', 'male', 'ana2345');\n",
        "insert into Customers values ('850123856','26', 'female', 'mab9865');\n",
        "insert into Customers values ('184920375','18', 'male', 'rbf7823');\n",
        "insert into Customers values ('846382647', '20', 'female', 'aba1020');\n",
        "insert into Customers values ('092398764', '32', 'female', 'der0066');\n",
        "\n",
        "insert into Staff values ('124ghd', 'Host', 'David', '889076547', 'Martinez');\n",
        "insert into Staff values ('876kjh', 'Bartender', 'Mike', '889056743', 'Smith');\n",
        "insert into Staff values ('850dyg', 'Game instructor', 'Robert', '889034216', 'Mills');\n",
        "insert into Staff values ('678bbd', 'Janitor', 'Brendan', '889076859', 'Tarinto');\n",
        "insert into Staff values ('893mmn', 'Floor monitor', 'Amanda', '889074635', 'Williams');\n",
        "insert into Staff values ('096hgj', 'Manager', 'Floyd', '889010002', 'Mayweather');\n",
        "\n",
        "insert into CustomerPurchases values ('0748392716', '2020-06-15 16:12:12', 60.25, '556789091');\n",
        "insert into CustomerPurchases values ('0175849275', '2020-06-15 16:15:15', 30.25, '564830921');\n",
        "insert into CustomerPurchases values ('7684902614', '2020-06-16 15:13:01', 45.99, '850123856');\n",
        "insert into CustomerPurchases values ('7685940325', '2020-07-01 18:23:09', 15.99, '184920375' );\n",
        "insert into CustomerPurchases values ('9037465839', '2020-07-01 19:03:50', 120.50, '846382647');\n",
        "insert into CustomerPurchases values ('8695047365', '2020-07-02 20:50:22', 100.25, '092398764');\n",
        "\n",
        "insert into Prizes values ('dsa6789', 'small', '100', 1.25 );\n",
        "insert into Prizes values ('ana2345', 'medium', '500', 10.00);\n",
        "insert into Prizes values ('mab9865', 'jumbo', '15000', 30.50);\n",
        "insert into Prizes values ('rbf7823', 'large', '800', 15.00);\n",
        "insert into Prizes values ('aba1020', 'small', '200', 0.50);\n",
        "insert into Prizes values ('der0066', 'large', '900', 8.25);\n",
        "\n",
        "insert into Games values ('Jumpyfish', 'dsa6789', 'Entertainment', '3' );\n",
        "insert into Games values ('ShooterX', 'ana2345', 'Action', '5');\n",
        "insert into Games values ('RacingStreet3', 'mab9865', 'Action', '8');\n",
        "insert into Games values ('Pinball200', 'rbf7823', 'Entertainment', '2');\n",
        "insert into Games values ('FruitNinja2', 'aba1020', 'Entertainment', '4');\n",
        "insert into Games values ('Deerhunting', 'der0066', 'Action', '7');\n",
        "\n"
      ],
      "execution_count": 0,
      "outputs": [
        {
          "output_type": "stream",
          "text": [
            " * sqlite:///dbDatabase.db\n",
            "1 rows affected.\n",
            "1 rows affected.\n",
            "1 rows affected.\n",
            "1 rows affected.\n",
            "1 rows affected.\n",
            "1 rows affected.\n",
            "1 rows affected.\n",
            "1 rows affected.\n",
            "1 rows affected.\n",
            "1 rows affected.\n",
            "1 rows affected.\n",
            "1 rows affected.\n",
            "1 rows affected.\n",
            "1 rows affected.\n",
            "1 rows affected.\n",
            "1 rows affected.\n",
            "1 rows affected.\n",
            "1 rows affected.\n",
            "1 rows affected.\n",
            "1 rows affected.\n",
            "1 rows affected.\n",
            "1 rows affected.\n",
            "1 rows affected.\n",
            "1 rows affected.\n",
            "1 rows affected.\n",
            "1 rows affected.\n",
            "1 rows affected.\n",
            "1 rows affected.\n",
            "1 rows affected.\n",
            "1 rows affected.\n"
          ],
          "name": "stdout"
        },
        {
          "output_type": "execute_result",
          "data": {
            "text/plain": [
              "[]"
            ]
          },
          "metadata": {
            "tags": []
          },
          "execution_count": 13
        }
      ]
    },
    {
      "cell_type": "markdown",
      "metadata": {
        "id": "PrEJWN4INmzq",
        "colab_type": "text"
      },
      "source": [
        "This query of the average amount of tickets per prize can be very helpful to the user because when customers come in, they buy tokens to play games and tokens then earn tickets and tickets are traded into prizes. The customer would want to know the average amount of tickets needed to earn a prize so he can make sure he is buying enough tickets to earn the prize he wants. If he wants a large prize then he could know how many tickets he needs and the amount he has to spend. If he only wants a small prize then he won't have to spend as much money. This query is for the customers sake only. "
      ]
    },
    {
      "cell_type": "code",
      "metadata": {
        "id": "c3I7-nfOOtV_",
        "colab_type": "code",
        "outputId": "369ccb29-b765-49f2-d794-b18000369c45",
        "colab": {
          "base_uri": "https://localhost:8080/",
          "height": 88
        }
      },
      "source": [
        "%%sql\n",
        "select avg(Tickets), Avg(Amount) from Prizes WHERE Type ='large'"
      ],
      "execution_count": 0,
      "outputs": [
        {
          "output_type": "stream",
          "text": [
            " * sqlite:///dbDatabase.db\n",
            "Done.\n"
          ],
          "name": "stdout"
        },
        {
          "output_type": "execute_result",
          "data": {
            "text/html": [
              "<table>\n",
              "    <tr>\n",
              "        <th>avg(Tickets)</th>\n",
              "        <th>Avg(Amount)</th>\n",
              "    </tr>\n",
              "    <tr>\n",
              "        <td>850.0</td>\n",
              "        <td>11.625</td>\n",
              "    </tr>\n",
              "</table>"
            ],
            "text/plain": [
              "[(850.0, 11.625)]"
            ]
          },
          "metadata": {
            "tags": []
          },
          "execution_count": 30
        }
      ]
    },
    {
      "cell_type": "markdown",
      "metadata": {
        "id": "1F3btGdoEiWY",
        "colab_type": "text"
      },
      "source": [
        "This query is helpful to all parties involved that work at Dave and busters from the CEO, to all the employees working on a day to day basis. This query shows the connection of the customer and their game card. This information is vital to keeping track of information that the customer has under their account so the employees can see past purchases and trends. It is good to have a regular customers information in the system to aid in promotions, target marketing, and efficiencies all around at the restaurant."
      ]
    },
    {
      "cell_type": "code",
      "metadata": {
        "id": "qkw5QcCyTJMb",
        "colab_type": "code",
        "outputId": "52443396-07d9-47f9-c3c1-b2ecaa760074",
        "colab": {
          "base_uri": "https://localhost:8080/",
          "height": 88
        }
      },
      "source": [
        "%%sql\n",
        "select Age, GameCard from Customers WHERE Age >= 10 and Age <= 20 and GameCard LIKE 'an%'"
      ],
      "execution_count": 0,
      "outputs": [
        {
          "output_type": "stream",
          "text": [
            " * sqlite:///dbDatabase.db\n",
            "Done.\n"
          ],
          "name": "stdout"
        },
        {
          "output_type": "execute_result",
          "data": {
            "text/html": [
              "<table>\n",
              "    <tr>\n",
              "        <th>Age</th>\n",
              "        <th>GameCard</th>\n",
              "    </tr>\n",
              "    <tr>\n",
              "        <td>19</td>\n",
              "        <td>ana2345</td>\n",
              "    </tr>\n",
              "</table>"
            ],
            "text/plain": [
              "[('19', 'ana2345')]"
            ]
          },
          "metadata": {
            "tags": []
          },
          "execution_count": 20
        }
      ]
    },
    {
      "cell_type": "markdown",
      "metadata": {
        "id": "Eo_BL3bdNn2z",
        "colab_type": "text"
      },
      "source": [
        "When looking to see when most of the kids are coming into Dave n Busters, we trimmed our search here to the month of June. Since June is in the summer we were expecting to have more kids from ages 10-18 but we don't have any here. Finding out more adults are coming, the CEO could make more deals with drinks to make the best profit. Or he could make better summer deals for kids to get more kids into the restaurants. "
      ]
    },
    {
      "cell_type": "code",
      "metadata": {
        "id": "BsfXQe4lCY3i",
        "colab_type": "code",
        "outputId": "edc790cd-e893-40f0-94ba-bfa0a36e8140",
        "colab": {
          "base_uri": "https://localhost:8080/",
          "height": 106
        }
      },
      "source": [
        "%%sql\n",
        "select Age, DateTime from Customers s, CustomerPurchases c WHERE c.DateTime LIKE '2020-06-15%' limit 2"
      ],
      "execution_count": 0,
      "outputs": [
        {
          "output_type": "stream",
          "text": [
            " * sqlite:///dbDatabase.db\n",
            "Done.\n"
          ],
          "name": "stdout"
        },
        {
          "output_type": "execute_result",
          "data": {
            "text/html": [
              "<table>\n",
              "    <tr>\n",
              "        <th>Age</th>\n",
              "        <th>DateTime</th>\n",
              "    </tr>\n",
              "    <tr>\n",
              "        <td>21</td>\n",
              "        <td>2020-06-15 16:12:12</td>\n",
              "    </tr>\n",
              "    <tr>\n",
              "        <td>19</td>\n",
              "        <td>2020-06-15 16:12:12</td>\n",
              "    </tr>\n",
              "</table>"
            ],
            "text/plain": [
              "[('21', '2020-06-15 16:12:12'), ('19', '2020-06-15 16:12:12')]"
            ]
          },
          "metadata": {
            "tags": []
          },
          "execution_count": 33
        }
      ]
    }
  ]
}