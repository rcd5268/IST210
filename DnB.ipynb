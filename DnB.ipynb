{
  "nbformat": 4,
  "nbformat_minor": 0,
  "metadata": {
    "colab": {
      "name": "DnB ",
      "provenance": [],
      "collapsed_sections": [],
      "authorship_tag": "ABX9TyNjjHxVPJD4jLoCtHJLnNqZ",
      "include_colab_link": true
    },
    "kernelspec": {
      "name": "python3",
      "display_name": "Python 3"
    }
  },
  "cells": [
    {
      "cell_type": "markdown",
      "metadata": {
        "id": "view-in-github",
        "colab_type": "text"
      },
      "source": [
        "<a href=\"https://colab.research.google.com/github/rcd5268/IST210/blob/master/DnB.ipynb\" target=\"_parent\"><img src=\"https://colab.research.google.com/assets/colab-badge.svg\" alt=\"Open In Colab\"/></a>"
      ]
    },
    {
      "cell_type": "markdown",
      "metadata": {
        "id": "k2S7yBUtXQU6",
        "colab_type": "text"
      },
      "source": [
        "For our diagram about Dave and Busters we have five tables. The tables are games, customer purchases, prizes, staff and games. Our main table 'customers' is our primary table that connects to three other tables. The primary key is the Dave and Busters card, this card is unique to each customer. On this card it has your address, phone number and email. You can sign up for this card at any Dave and Busters, you use it when you make any purchase. The more purchases you make the more rewards you will receive. On the card it also has a history of every purchase you have made, who served you and how many reward points you have. Our next table is 'Staff' which is anyone who works at Dave and Busters. The primary key is Staff ID which is an ID given to every staff member, on the ID is all of your personal information. It also shows how long you've worked there, how many hours you've worked, your average salary and your occupation. The Dave and Busters Card is a secondary key because if the data of who served someone gets messed up in the staff ID, then they can go back in and look at the Dave and Busters card to see who you served and when. Our third table is customer purchases. This table is everything the customer could have purchased like food, drinks or games. The primary key is receipt code because each receipt is unique to each purchase. Dave and Busters card is a secondary key because if the receipt gets lost you can look at your transactions with the card. Prizes are all the prizes you can get from winning games. I have a game card as the primary key because each game card is unique to each person. On the card it has all the tokens you've earned. The prizes table leads to our last table, 'Games'. Games are all the arcade games at Dave and Busters. Each game has a different genre, cost and prize amount. The primary key we use for games is game ID. Each game ID is unique to each game, it lists every attribute for that game if you look up the ID. We use the game card as the secondary key because if your rewards from the game somehow get messed up, the game card shows what you played and how much you won from that game. \n"
      ]
    },
    {
      "cell_type": "markdown",
      "metadata": {
        "id": "pIlPGTEtcA7g",
        "colab_type": "text"
      },
      "source": [
        "![alt text](https://raw.githubusercontent.com/rcd5268/IST210/master/DnB%20Diagram.png)"
      ]
    }
  ]
}