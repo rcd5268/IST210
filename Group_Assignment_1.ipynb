{
  "nbformat": 4,
  "nbformat_minor": 0,
  "metadata": {
    "colab": {
      "name": "Group Assignment 1 ",
      "provenance": [],
      "collapsed_sections": [],
      "include_colab_link": true
    },
    "kernelspec": {
      "name": "python3",
      "display_name": "Python 3"
    }
  },
  "cells": [
    {
      "cell_type": "markdown",
      "metadata": {
        "id": "view-in-github",
        "colab_type": "text"
      },
      "source": [
        "<a href=\"https://colab.research.google.com/github/rcd5268/IST210/blob/master/Group_Assignment_1.ipynb\" target=\"_parent\"><img src=\"https://colab.research.google.com/assets/colab-badge.svg\" alt=\"Open In Colab\"/></a>"
      ]
    },
    {
      "cell_type": "markdown",
      "metadata": {
        "id": "hMDBcLE5MvbJ",
        "colab_type": "text"
      },
      "source": [
        "##Penn State Administrator "
      ]
    },
    {
      "cell_type": "markdown",
      "metadata": {
        "id": "MZ2a_fPGMzrH",
        "colab_type": "text"
      },
      "source": [
        "(1) Student"
      ]
    },
    {
      "cell_type": "markdown",
      "metadata": {
        "id": "Y8MQMikNNAN5",
        "colab_type": "text"
      },
      "source": [
        "(2) Meal Plan "
      ]
    },
    {
      "cell_type": "markdown",
      "metadata": {
        "id": "un2ljfAiM0WY",
        "colab_type": "text"
      },
      "source": [
        "(3) Cost"
      ]
    },
    {
      "cell_type": "markdown",
      "metadata": {
        "id": "0cpXpvlHOPXj",
        "colab_type": "text"
      },
      "source": [
        "(4) Dorm Area "
      ]
    },
    {
      "cell_type": "markdown",
      "metadata": {
        "id": "DYD3VzCOOmP0",
        "colab_type": "text"
      },
      "source": [
        "(5) Major"
      ]
    },
    {
      "cell_type": "markdown",
      "metadata": {
        "id": "VkMRz68Sa6PV",
        "colab_type": "text"
      },
      "source": [
        "Our first idea is working as a Penn State administrator, and we are trying to find out what specific part of Penn State brings in the most revenue and how we can use that money to provide the best possible education and resources to qualified students where it is still affordable to them. This idea is unique to our group as we are trying to pinppoint the exact area or subdivision where Penn State accuires money and how they use it. Our end goal is to create an effinency with the university income and use that money in the most overall beneficial way possible. This is, however, a borrowed idea as The Pennsylvania State University is an existing organization that takes accound all of these data points. On a day to day basis we will take into account what students are paying what for each of our five listed variables and where the university is putting that money towards and evaluating to see if it is being used efficiently. There will be a project manager over seeing this entire process and they will make sure that all of the data is accurate and stord properly. Our five mian variables are cost of: Student, meal plan, cost, dorm area and major. The student is what we will be building all of our data off of. The student pays tuition, chooses a major and where to live. The Meal plan is what a student needs to eat, their are different options each student has to choose. The variable \"cost\" is how much tuition and other purchases the student has to make throughout the year. Dorm area is where the student decides to live, there are 5 different options he can choose from. Our last variable is major, a student can choose any major out of the hundreed Penn State offers. Our main goal with this is to find information about students and see if theres relationships with all of our varibales. Like for example, do Engineer majors choose the third meal plan option and want to live in East Halls. "
      ]
    },
    {
      "cell_type": "markdown",
      "metadata": {
        "id": "7xF2wsDXZ1QT",
        "colab_type": "text"
      },
      "source": [
        "https://raw.githubusercontent.com/rcd5268/IST210/master/PSU%20admin.png"
      ]
    },
    {
      "cell_type": "markdown",
      "metadata": {
        "id": "2z7b6YtXOy8c",
        "colab_type": "text"
      },
      "source": [
        "##Dave and Busters \n"
      ]
    },
    {
      "cell_type": "markdown",
      "metadata": {
        "id": "sqmCNEyoO99V",
        "colab_type": "text"
      },
      "source": [
        "(1) customers purchases"
      ]
    },
    {
      "cell_type": "markdown",
      "metadata": {
        "id": "2G9eDPafPBih",
        "colab_type": "text"
      },
      "source": [
        "(2) Different types of games"
      ]
    },
    {
      "cell_type": "markdown",
      "metadata": {
        "id": "Cndc8OzZsBXr",
        "colab_type": "text"
      },
      "source": [
        "(3) Staff"
      ]
    },
    {
      "cell_type": "markdown",
      "metadata": {
        "id": "TBFCtsWyPHtd",
        "colab_type": "text"
      },
      "source": [
        "\n",
        "\n",
        "(4) Customers"
      ]
    },
    {
      "cell_type": "markdown",
      "metadata": {
        "id": "KZBW_CQNuIH3",
        "colab_type": "text"
      },
      "source": [
        "(5) Prizes "
      ]
    },
    {
      "cell_type": "markdown",
      "metadata": {
        "id": "LZJD6Ks1tYWv",
        "colab_type": "text"
      },
      "source": [
        "Our second idea is a Dave and Busters restaraunt. Dave and Busters is a unique restaraunt, not only do they have a wide arrange of food, beers and drinks, they also have multiple games that their customers can play while they wait for their foood. This concept of their restaraunt makes them unique. We are borrowing the idea of their restaraunt for our project. A typical day at our restaraunt is we have customers come in, they sit day at either a table or at the bar. They will order their food and drinks and wait to be served. If they have kids usually they will buy coins for them to walk around and play games while they wait for their order. Then when they are done eating the kids can choose a prize depending on how much they won. Our five tables we will be using our customer purchases, different types of games, staff, customers and prizes. Our first table, customer purchases is what our customers are purchasing. This could be food, drinks, alcohol, prizes and coins for games. Our second table is different types of games. Dave and Busters has many different types of games, they have shooting games, racing games, stategic games and horror games. Each game cost a different amount and grants you different rewards. Our third variable is the staff members. The staff members can range from the chefs, waiters, general managers, securtity and the people who fix and run the gaming machines. Our fourth table is customers. We need to figure out when customers come in the most, are most of our customers adults or kids. Customers are the reason are business runs so they are a crucial part. Our last table are the prizes. Prizes are what draw the customers to play the games. The better the prizes the more the customer needs to get them. For example, a ps4 would be 5,000 points. But a customer would probably need to play a lot of games to get that. So we are going to look at the most popular prizes and see why they are frequently picked. Our main goal and focus is to see what makes us the biggest profit. Does our food, alcohol or games make the most money? That is what our main focus is going to be. "
      ]
    },
    {
      "cell_type": "markdown",
      "metadata": {
        "id": "5tSgS85WZlOi",
        "colab_type": "text"
      },
      "source": [
        "https://raw.githubusercontent.com/rcd5268/IST210/master/DnB.png"
      ]
    },
    {
      "cell_type": "markdown",
      "metadata": {
        "id": "3gHdezZ5Ruhk",
        "colab_type": "text"
      },
      "source": [
        "## MRBD Network NBA Stats\n",
        "\n",
        " \n",
        "(1) Player\n",
        "\n",
        "(2) Game Stats \n",
        "\n",
        "(3) teams\n",
        "\n",
        "\n",
        "\n",
        "\n",
        "\n",
        "(4) coaches\n",
        "\n",
        "(5) Schedule"
      ]
    },
    {
      "cell_type": "markdown",
      "metadata": {
        "id": "DpjJr974u1kB",
        "colab_type": "text"
      },
      "source": [
        "Our final idea is to start a new company called MRBD Network NBA Stats. This idea is based off other companies like ESPN that track NBA stats, but ours is unique because we look at all stats and all things that make up an NBA team and we use it to provide the public with advice on what games to bet that night to try to make money. This brand of collecting NBA stats is like other businesses like record NBA stats, and there are legal gambling websites, but ours is different in the sense where we help the public make accurate and good bets while the other websites do not. A typical business day for us would be to go into the office early in the morning and gather all NBA stats on teams and players all day and compare them to the other team they are playing that night. After we do this and gain all the statistics, we decide who we think will win the game and what players will perform well and why. Then, we post this information to our website where our subscribers see it. Our five tables are player, game stats, teams, schedules, and coaches. For player, this is individual players on each team where we can look at all their NBA stats like point per game, rebound per game, etc. Game stats is how many points scored in a game total for both teams and all total game stats. Teams are there are 30 NBA teams in the league, and we must look at total team records, records against other teams, etc. Coaches are the 30 NBA coaches and comparing which ones have more success than others. Lastly, we have schedule, which is the whole NBA schedule for that year and all 30 NBA teams 82 games. Our goal for this project is to provide accurate and precise information on all stats and things NBA so we can then put this info on our website. People then subscribe to our website and log on to see who they should take to bet for the NBA games that week to win money. All five tables will be used to help us achieve success in picking the games correctly."
      ]
    },
    {
      "cell_type": "markdown",
      "metadata": {
        "id": "s8O_fss-XE4p",
        "colab_type": "text"
      },
      "source": [
        "https://raw.githubusercontent.com/rcd5268/IST210/master/Copy%20of%20Stat%20Guide%20(1).png"
      ]
    }
  ]
}