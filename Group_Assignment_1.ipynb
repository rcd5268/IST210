{
  "nbformat": 4,
  "nbformat_minor": 0,
  "metadata": {
    "colab": {
      "name": "Group Assignment 1 ",
      "provenance": [],
      "include_colab_link": true
    },
    "kernelspec": {
      "name": "python3",
      "display_name": "Python 3"
    }
  },
  "cells": [
    {
      "cell_type": "markdown",
      "metadata": {
        "id": "view-in-github",
        "colab_type": "text"
      },
      "source": [
        "<a href=\"https://colab.research.google.com/github/rcd5268/IST210/blob/master/Group_Assignment_1.ipynb\" target=\"_parent\"><img src=\"https://colab.research.google.com/assets/colab-badge.svg\" alt=\"Open In Colab\"/></a>"
      ]
    },
    {
      "cell_type": "markdown",
      "metadata": {
        "id": "hMDBcLE5MvbJ",
        "colab_type": "text"
      },
      "source": [
        "##Penn State Administrator "
      ]
    },
    {
      "cell_type": "markdown",
      "metadata": {
        "id": "MZ2a_fPGMzrH",
        "colab_type": "text"
      },
      "source": [
        "(1) Tuition"
      ]
    },
    {
      "cell_type": "markdown",
      "metadata": {
        "id": "Y8MQMikNNAN5",
        "colab_type": "text"
      },
      "source": [
        "(2) Meal Plan "
      ]
    },
    {
      "cell_type": "markdown",
      "metadata": {
        "id": "un2ljfAiM0WY",
        "colab_type": "text"
      },
      "source": [
        "(3) Roomate"
      ]
    },
    {
      "cell_type": "markdown",
      "metadata": {
        "id": "0cpXpvlHOPXj",
        "colab_type": "text"
      },
      "source": [
        "(4) Dorm Area "
      ]
    },
    {
      "cell_type": "markdown",
      "metadata": {
        "id": "DYD3VzCOOmP0",
        "colab_type": "text"
      },
      "source": [
        "(5) Major"
      ]
    },
    {
      "cell_type": "markdown",
      "metadata": {
        "id": "Rzb2XJB8qja9",
        "colab_type": "text"
      },
      "source": [
        ""
      ]
    },
    {
      "cell_type": "markdown",
      "metadata": {
        "id": "2z7b6YtXOy8c",
        "colab_type": "text"
      },
      "source": [
        "##Dave and Busters \n"
      ]
    },
    {
      "cell_type": "markdown",
      "metadata": {
        "id": "sqmCNEyoO99V",
        "colab_type": "text"
      },
      "source": [
        "(1) How many customers"
      ]
    },
    {
      "cell_type": "markdown",
      "metadata": {
        "id": "2G9eDPafPBih",
        "colab_type": "text"
      },
      "source": [
        "(2) Money spent on games"
      ]
    },
    {
      "cell_type": "markdown",
      "metadata": {
        "id": "TBFCtsWyPHtd",
        "colab_type": "text"
      },
      "source": [
        "(4) Adults vs kids \n",
        "\n",
        "\n",
        "(5) Prizes"
      ]
    },
    {
      "cell_type": "markdown",
      "metadata": {
        "id": "ke2sf-m1qyli",
        "colab_type": "text"
      },
      "source": [
        ""
      ]
    },
    {
      "cell_type": "markdown",
      "metadata": {
        "id": "3gHdezZ5Ruhk",
        "colab_type": "text"
      },
      "source": [
        "## ESPN NBA Player Stats\n",
        " \n",
        "(1) How many points scored\n",
        "\n",
        "(2) How many rebounds \n",
        "\n",
        "(3) How many steals\n",
        "\n",
        "\n",
        "\n",
        "\n",
        "\n",
        "(4) How many blocks\n",
        "\n",
        "(5) How many assists"
      ]
    }
  ]
}