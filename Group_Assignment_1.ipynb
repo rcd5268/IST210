{
  "nbformat": 4,
  "nbformat_minor": 0,
  "metadata": {
    "colab": {
      "name": "Group Assignment 1 ",
      "provenance": [],
      "include_colab_link": true
    },
    "kernelspec": {
      "name": "python3",
      "display_name": "Python 3"
    }
  },
  "cells": [
    {
      "cell_type": "markdown",
      "metadata": {
        "id": "view-in-github",
        "colab_type": "text"
      },
      "source": [
        "<a href=\"https://colab.research.google.com/github/rcd5268/IST210/blob/master/Group_Assignment_1.ipynb\" target=\"_parent\"><img src=\"https://colab.research.google.com/assets/colab-badge.svg\" alt=\"Open In Colab\"/></a>"
      ]
    },
    {
      "cell_type": "markdown",
      "metadata": {
        "id": "hMDBcLE5MvbJ",
        "colab_type": "text"
      },
      "source": [
        "##Penn State Administrator "
      ]
    },
    {
      "cell_type": "markdown",
      "metadata": {
        "id": "MZ2a_fPGMzrH",
        "colab_type": "text"
      },
      "source": [
        "(1) Tuition"
      ]
    },
    {
      "cell_type": "markdown",
      "metadata": {
        "id": "Y8MQMikNNAN5",
        "colab_type": "text"
      },
      "source": [
        "(2) Meal Plan "
      ]
    },
    {
      "cell_type": "markdown",
      "metadata": {
        "id": "un2ljfAiM0WY",
        "colab_type": "text"
      },
      "source": [
        "(3) Roomate"
      ]
    },
    {
      "cell_type": "markdown",
      "metadata": {
        "id": "0cpXpvlHOPXj",
        "colab_type": "text"
      },
      "source": [
        "(4) Dorm Area "
      ]
    },
    {
      "cell_type": "markdown",
      "metadata": {
        "id": "DYD3VzCOOmP0",
        "colab_type": "text"
      },
      "source": [
        "(5) Major"
      ]
    },
    {
      "cell_type": "markdown",
      "metadata": {
        "id": "2z7b6YtXOy8c",
        "colab_type": "text"
      },
      "source": [
        "##Dave and Busters \n"
      ]
    },
    {
      "cell_type": "markdown",
      "metadata": {
        "id": "sqmCNEyoO99V",
        "colab_type": "text"
      },
      "source": [
        "(1) How many customers"
      ]
    },
    {
      "cell_type": "markdown",
      "metadata": {
        "id": "2G9eDPafPBih",
        "colab_type": "text"
      },
      "source": [
        "(2) Money spent on games"
      ]
    },
    {
      "cell_type": "markdown",
      "metadata": {
        "id": "Cndc8OzZsBXr",
        "colab_type": "text"
      },
      "source": [
        "(3) How much money spent on food "
      ]
    },
    {
      "cell_type": "markdown",
      "metadata": {
        "id": "TBFCtsWyPHtd",
        "colab_type": "text"
      },
      "source": [
        "(4) Adults vs kids "
      ]
    },
    {
      "cell_type": "markdown",
      "metadata": {
        "id": "KZBW_CQNuIH3",
        "colab_type": "text"
      },
      "source": [
        "(5) Prizes people choose "
      ]
    },
    {
      "cell_type": "markdown",
      "metadata": {
        "id": "LZJD6Ks1tYWv",
        "colab_type": "text"
      },
      "source": [
        "Our second idea is a general manager at Dave and Busters. We are trying to find out how Dave and Busters makes their biggest profit, whether it be from the games or from their food. What makes it unique is most restaraunt don't have games like Dave and Busters so we already know how they make their profits. The games being at Dave and Busters makes this idea unique. Dave and Busters is already a restaraunt so we are borrowing an idea. A typical day for a general manager is overseeing everything that is going on in the restaraunt. For example he oversees all the waiter to customer interactions, all the food being ordered, how the foods being cooked, he sees all the game purchases and whats going on at the bar. Our first table is \"how many customers\" which is just the number of customers we get each day. Our second table is \"money spent on games\" which is the amount each person spends on each game at Dave and Busters.  "
      ]
    },
    {
      "cell_type": "markdown",
      "metadata": {
        "id": "3gHdezZ5Ruhk",
        "colab_type": "text"
      },
      "source": [
        "## MRBD Network NBA Player Stats\n",
        " \n",
        "(1) How many points scored\n",
        "\n",
        "(2) How many rebounds \n",
        "\n",
        "(3) How many steals\n",
        "\n",
        "\n",
        "\n",
        "\n",
        "\n",
        "(4) How many blocks\n",
        "\n",
        "(5) How many assists"
      ]
    },
    {
      "cell_type": "markdown",
      "metadata": {
        "id": "DpjJr974u1kB",
        "colab_type": "text"
      },
      "source": [
        "Our final idea "
      ]
    }
  ]
}